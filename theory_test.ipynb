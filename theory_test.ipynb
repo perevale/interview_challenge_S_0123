{
 "cells": [
  {
   "cell_type": "markdown",
   "metadata": {},
   "source": [
    "## Task 0"
   ]
  },
  {
   "cell_type": "code",
   "execution_count": 10,
   "metadata": {},
   "outputs": [],
   "source": [
    "def filter_neg(arr):\n",
    "    a = [i for i in arr if i > 0]\n",
    "    return a\n",
    "\n",
    "def find_diff(arr):\n",
    "    for i in range(len(arr)-1):\n",
    "        if arr[i+1] - arr[i] > 1:\n",
    "            return arr[i]+1\n",
    "\n",
    "def solution(A):\n",
    "    # Filter\n",
    "    a = filter_neg(A)\n",
    "\n",
    "    a = sorted(a)\n",
    "\n",
    "    diff = find_diff(a)\n",
    "    print(diff)\n",
    "    return diff"
   ]
  },
  {
   "cell_type": "markdown",
   "metadata": {},
   "source": [
    "## Task 1"
   ]
  },
  {
   "cell_type": "code",
   "execution_count": 45,
   "metadata": {},
   "outputs": [],
   "source": [
    "def split_into_blocks(letters):\n",
    "    if len(letters) == 0:\n",
    "        return []\n",
    "    blocks = []\n",
    "    block_start = 0\n",
    "    for i in range(len(letters)):\n",
    "        if letters[block_start] == letters[i]:    \n",
    "            continue\n",
    "        block = letters[block_start: i]\n",
    "        blocks.append(block)\n",
    "        block_start = i\n",
    "    last_block = letters[block_start:]\n",
    "    blocks.append(last_block)\n",
    "    print(blocks)\n",
    "    return blocks\n",
    "\n",
    "def count_additions(max_block_len, blocks):\n",
    "    return sum([max_block_len - len(block) for block in blocks])\n",
    "\n",
    "def solution(S):\n",
    "    blocks = split_into_blocks(S)\n",
    "\n",
    "    max_block_len = max([len(block) for block in blocks])\n",
    "\n",
    "    return count_additions(max_block_len, blocks)\n"
   ]
  },
  {
   "cell_type": "code",
   "execution_count": 46,
   "metadata": {},
   "outputs": [
    {
     "name": "stdout",
     "output_type": "stream",
     "text": [
      "['b', 'a', 'b', 'aa']\n"
     ]
    },
    {
     "data": {
      "text/plain": [
       "3"
      ]
     },
     "execution_count": 46,
     "metadata": {},
     "output_type": "execute_result"
    }
   ],
   "source": [
    "a = 'babaa'\n",
    "solution(a)"
   ]
  },
  {
   "cell_type": "markdown",
   "metadata": {},
   "source": [
    "## Task 2"
   ]
  },
  {
   "cell_type": "code",
   "execution_count": 62,
   "metadata": {},
   "outputs": [],
   "source": [
    "def argmax(arr):\n",
    "    # Assymptotic complexity: O(N), just one iteration over `arr`.\n",
    "    max_index = None\n",
    "    max_value = None\n",
    "    for i, value in enumerate(arr):\n",
    "        if max_value is None or value > max_value:\n",
    "            max_index = i\n",
    "            max_value = value\n",
    "    if max_index is None: \n",
    "        raise ValueError('No max found!')\n",
    "    return max_index\n",
    "\n",
    "\n",
    "def reduce_max_by_half(arr, init_pollution):\n",
    "    if init_pollution / 2 >= sum(arr):\n",
    "        return 0\n",
    "    arr[argmax(arr)] /= 2\n",
    "    n_filters = reduce_max_by_half(arr, init_pollution)\n",
    "    return n_filters + 1\n",
    "\n",
    "def solution(A):\n",
    "    # The provided solution uses an idea of treating the worst polluter, \n",
    "    # since applying filters brings diminishing results.\n",
    "    return reduce_max_by_half(A, sum(A))     \n"
   ]
  },
  {
   "cell_type": "code",
   "execution_count": 67,
   "metadata": {},
   "outputs": [],
   "source": [
    "def test():\n",
    "    ars = [[5,19,8,1], [10,10], [3,0,5], [70000]]\n",
    "    answers = [3, 2, 2, 1]\n",
    "\n",
    "    for pred, expected in zip(ars, answers):\n",
    "        actual = solution(pred)\n",
    "        assert actual == expected, f\"Actual value {actual} is not expected {expected}\"\n",
    "    print('Success!')"
   ]
  },
  {
   "cell_type": "code",
   "execution_count": 61,
   "metadata": {},
   "outputs": [
    {
     "data": {
      "text/plain": [
       "3"
      ]
     },
     "execution_count": 61,
     "metadata": {},
     "output_type": "execute_result"
    }
   ],
   "source": [
    "solution([5,19,8,1])"
   ]
  }
 ],
 "metadata": {
  "kernelspec": {
   "display_name": "Python 3.9.9 ('env': venv)",
   "language": "python",
   "name": "python3"
  },
  "language_info": {
   "codemirror_mode": {
    "name": "ipython",
    "version": 3
   },
   "file_extension": ".py",
   "mimetype": "text/x-python",
   "name": "python",
   "nbconvert_exporter": "python",
   "pygments_lexer": "ipython3",
   "version": "3.9.9"
  },
  "orig_nbformat": 4,
  "vscode": {
   "interpreter": {
    "hash": "399ba6da13f1a0ab27358d540618ecfafd37a842103cd8305f5c1fbe569841be"
   }
  }
 },
 "nbformat": 4,
 "nbformat_minor": 2
}
