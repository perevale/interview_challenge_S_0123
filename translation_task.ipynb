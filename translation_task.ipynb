{
 "cells": [
  {
   "cell_type": "code",
   "execution_count": null,
   "metadata": {},
   "outputs": [],
   "source": []
  }
 ],
 "metadata": {
  "kernelspec": {
   "display_name": "env",
   "language": "python",
   "name": "python3"
  },
  "language_info": {
   "name": "python",
   "version": "3.9.9"
  },
  "orig_nbformat": 4,
  "vscode": {
   "interpreter": {
    "hash": "399ba6da13f1a0ab27358d540618ecfafd37a842103cd8305f5c1fbe569841be"
   }
  }
 },
 "nbformat": 4,
 "nbformat_minor": 2
}
